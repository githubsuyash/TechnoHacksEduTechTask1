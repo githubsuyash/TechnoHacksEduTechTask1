#cell 1 

import numpy as np # linear algebra
import pandas as pd # data processing, CSV file I/O (e.g. pd.read_csv)

# Input data files are available in the read-only "../input/" directory
# For example, running this (by clicking run or pressing Shift+Enter) will list all files under the input directory

import os
for dirname, _, filenames in os.walk('/kaggle/input'):
    for filename in filenames:
        print(os.path.join(dirname, filename))

#cell 2

import numpy as np 
import pandas as pd
from math import sqrt
from scipy.stats import skew
import matplotlib.pyplot as plt
from sklearn import linear_model
from sklearn import preprocessing
from sklearn.model_selection import train_test_split
from sklearn.linear_model import LinearRegression
from sklearn.metrics import r2_score
import seaborn as sns
from sklearn.metrics import mean_absolute_error, mean_squared_error

#Cell 3

df = pd.read_csv("/kaggle/input/california-housing-prices/housing.csv")

#Cell 4

df.head()

#cell 5

df.isnull().sum()

#cell 6

df.info() 

#cell 7

df['ocean_proximity'].value_counts()

#cell 8

mapping = {'<1H OCEAN': 1,'INLAND': 2,'NEAR OCEAN': 3,'NEAR BAY':4,'ISLAND':5}
df['ocean_proximity'] = df['ocean_proximity'].map(mapping)


# cell 9

df.hist(figsize=(15, 15))

#cell 10 

X = df.drop(['median_house_value'],axis=1)
y = df['median_house_value']
X_train,X_test,y_train,y_test = train_test_split(X,y,test_size=0.2,random_state=1)

#cell 11

reg = LinearRegression()
reg.fit(X_train,y_train)

#cell 12

plt.figure(figsize=(15, 8))
sns.heatmap(df.corr(), annot=True)

#cell 13

y_pred = reg.predict(X_test)
rmse   = np.sqrt(mean_squared_error(y_test,y_pred))
print('Training Score: ', reg.score(X_train, y_train))
print('Testing Score: ', reg.score(X_test, y_test))
print('RMSE: ',rmse)





